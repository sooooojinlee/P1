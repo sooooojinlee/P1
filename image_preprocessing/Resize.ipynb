{
 "cells": [
  {
   "cell_type": "code",
   "execution_count": 1,
   "metadata": {},
   "outputs": [],
   "source": [
    "import os\n",
    "from PIL import Image\n",
    "data_src = './Perfect_data/train'\n",
    "for directory in os.listdir(data_src):\n",
    "    try:\n",
    "        for pic in os.listdir(os.path.join(data_src, directory)):\n",
    "            image = Image.open(os.path.join(data_src, directory, pic))\n",
    "            resize_image = image.resize((224,224))\n",
    "            resize_image.save(os.path.join(data_src, directory, pic))\n",
    "    #         print('Saved %d.jpg' %cnt)\n",
    "#             cnt += 1\n",
    "    except:\n",
    "        pass"
   ]
  },
  {
   "cell_type": "code",
   "execution_count": 2,
   "metadata": {},
   "outputs": [],
   "source": [
    "import os\n",
    "from PIL import Image\n",
    "data_src = './Perfect_data/val'\n",
    "for directory in os.listdir(data_src):\n",
    "    try:\n",
    "        for pic in os.listdir(os.path.join(data_src, directory)):\n",
    "            image = Image.open(os.path.join(data_src, directory, pic))\n",
    "            resize_image = image.resize((224,224))\n",
    "            resize_image.save(os.path.join(data_src, directory, pic))\n",
    "    #         print('Saved %d.jpg' %cnt)\n",
    "#             cnt += 1\n",
    "    except:\n",
    "        pass"
   ]
  },
  {
   "cell_type": "code",
   "execution_count": 1,
   "metadata": {},
   "outputs": [
    {
     "name": "stdout",
     "output_type": "stream",
     "text": [
      "초기화 완료\n"
     ]
    }
   ],
   "source": [
    "%matplotlib tk\n",
    "import matplotlib.pyplot as plt\n",
    "import matplotlib.animation as animation\n",
    "import time\n",
    "import numpy as np\n",
    "\n",
    "# 스코프 클래스 정의\n",
    "class Scope(object):\n",
    "    \n",
    "    # 초기 설정\n",
    "    def __init__(self,\n",
    "                 ax,fn,\n",
    "                 xmax=10,ymax =10,\n",
    "                 xstart=0, ystart=0,\n",
    "                 title='Title',xlabel='X value',ylabel='Y value'):\n",
    "        \n",
    "        self.xmax = xmax #x축 길이\n",
    "        self.xstart = xstart #x축 시작점\n",
    "        self.ymax = ymax #y축 길이\n",
    "        self.ystart = ystart #y축 시작점\n",
    "\n",
    "        # 그래프 설정\n",
    "        self.ax = ax \n",
    "        self.ax.set_xlim((self.xstart,self.xmax))\n",
    "        self.ax.set_ylim((self.ystart,self.ymax))\n",
    "        self.ax.set_title(title)\n",
    "        self.ax.set_xlabel(xlabel)\n",
    "        self.ax.set_ylabel(ylabel)\n",
    "\n",
    "        self.x = [0] # x축 정보 \n",
    "        self.y = [0] # y축 정보\n",
    "        self.value = 0 # 축 값\n",
    "        self.fn = fn\n",
    "        self.line, = ax.plot([],[])\n",
    "\n",
    "        self.ti = time.time() #현재시각\n",
    "        print(\"초기화 완료\")\n",
    "\n",
    "    # 그래프 설정\n",
    "    def update(self, i):\n",
    "        # 시간차\n",
    "        tempo = time.time()-self.ti\n",
    "        self.ti = time.time() #시간 업데이트\n",
    "        \n",
    "        # 값 넣기\n",
    "        self.value = self.fn()# y값 함수 불러오기\n",
    "        self.y.append(self.value) #y값 넣기\n",
    "        self.x.append(tempo + self.x[-1]) #x값 넣기\n",
    "        self.line.set_data(self.x,self.y)\n",
    "\n",
    "        # 화면에 나타낼 x축 범위 업데이트\n",
    "        if self.x[-1] >= self.xstart + self.xmax :\n",
    "            #전체 x값중 반을 화면 옆으로 밀기\n",
    "            self.xstart = self.xstart + self.xmax/2\n",
    "            self.ax.set_xlim(self.xstart,self.xstart + self.xmax)\n",
    "\n",
    "            self.ax.figure.canvas.draw()\n",
    "\n",
    "        return (self.line, )\n",
    "\n",
    "\n",
    "fig, ax = plt.subplots()\n",
    "ax.grid(True)\n",
    "\n",
    "# y축에 표현할 값을 반환해야하고 scope 객체 선언 전 선언해야함.\n",
    "def insert():\n",
    "    value = np.random.randint(1,9) # 1~9 사이의 임의의 수를 Y값으로 함\n",
    "    return value \n",
    "\n",
    "# 객체 생성\n",
    "scope = Scope(ax,insert, ystart = 0, ymax = 10)\n",
    "    \n",
    "# update 매소드 호출\n",
    "ani = animation.FuncAnimation(fig, scope.update,interval=10,blit=True)\n",
    "plt.show()"
   ]
  },
  {
   "cell_type": "code",
   "execution_count": null,
   "metadata": {},
   "outputs": [],
   "source": []
  }
 ],
 "metadata": {
  "kernelspec": {
   "display_name": "Python 3",
   "language": "python",
   "name": "python3"
  },
  "language_info": {
   "codemirror_mode": {
    "name": "ipython",
    "version": 3
   },
   "file_extension": ".py",
   "mimetype": "text/x-python",
   "name": "python",
   "nbconvert_exporter": "python",
   "pygments_lexer": "ipython3",
   "version": "3.7.4"
  }
 },
 "nbformat": 4,
 "nbformat_minor": 4
}
