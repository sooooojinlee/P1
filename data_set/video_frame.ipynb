{
 "cells": [
  {
   "cell_type": "code",
   "execution_count": null,
   "metadata": {},
   "outputs": [],
   "source": [
    "import cv2\n",
    "import numpy as np\n",
    "\n",
    "from os import listdir\n",
    "from os.path import isfile, join\n",
    "\n",
    "#cap = cv2.VideoCapture('C:/Users/SJ/Desktop/pomap/video.mp4')\n",
    "cap = cv2.VideoCapture('http://192.168.0.6:8090/?action=stream')\n",
    "\n",
    "cap.set(cv2.CAP_PROP_FRAME_WIDTH, 320) # 프레임 폭 320으로 지정\n",
    "cap.set(cv2.CAP_PROP_FRAME_HEIGHT, 240) # 프레임 높이 240으로 지정\n",
    "\n",
    "count = 0\n",
    "\n",
    "if cap.isOpened():\n",
    "   while True:\n",
    "       ret, img = cap.read()\n",
    "\n",
    "       if(int(cap.get(1))%5==0):\n",
    "           cv2.resize(img, (224, 224))\n",
    "           cv2.imshow('camera', img)\n",
    "           cv2.imwrite(\"./images17/frame%d.jpg\" % count, img)\n",
    "          \n",
    "           count+=1\n",
    "\n",
    "           if cv2.waitKey(1) == 27:\n",
    "               break\n",
    "       else:\n",
    "           print('no frame!')\n",
    "else:\n",
    "   print(\"can't open video\")\n",
    "cap.release()\n",
    "cv2.destroyAllWindows()"
   ]
  }
 ],
 "metadata": {
  "kernelspec": {
   "display_name": "Python 3",
   "language": "python",
   "name": "python3"
  },
  "language_info": {
   "codemirror_mode": {
    "name": "ipython",
    "version": 3
   },
   "file_extension": ".py",
   "mimetype": "text/x-python",
   "name": "python",
   "nbconvert_exporter": "python",
   "pygments_lexer": "ipython3",
   "version": "3.7.3"
  }
 },
 "nbformat": 4,
 "nbformat_minor": 2
}
