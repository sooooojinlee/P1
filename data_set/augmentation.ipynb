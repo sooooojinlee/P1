{
 "cells": [
  {
   "cell_type": "code",
   "execution_count": null,
   "metadata": {},
   "outputs": [],
   "source": [
    "# Data augmentation\n",
    "\n",
    "import os\n",
    "import cv2\n",
    "import numpy as np\n",
    "from keras.preprocessing.image import ImageDataGenerator, array_to_img, img_to_array, load_img\n",
    "\n",
    "datagen = ImageDataGenerator(\n",
    "    rotation_range=2, # 무작위 회전의 정도\n",
    "    brightness_range=[0.7,1.3], # 밝기 변화 범위\n",
    "    zoom_range=[0.93, 1.07], # 무작위 zoom 범위\n",
    "    shear_range=0.01 # 전단 강도\n",
    ")\n",
    "data_src = '/home/pirl/ca/aaas/triplet/data/turtlebot/1st/' # 이미지가 있는 폴더 경로 지정\n",
    "\n",
    "for directory in os.listdir(data_src):\n",
    "    try:\n",
    "        for pic in os.listdir(os.path.join(data_src, directory)):\n",
    "            img = cv2.imread(os.path.join(data_src, directory, pic))\n",
    "            img = cv2.cvtColor(img, cv2.COLOR_BGR2RGB)\n",
    "            img = np.squeeze(np.asarray(img))\n",
    "            \n",
    "            i = 0\n",
    "            img = img.reshape((1,) + img.shape)\n",
    "# 아래 .flow() 함수는 임의 변환된 이미지를 배치 단위로 생성해서\n",
    "# 위에서 지정한 폴더에 저장\n",
    "            for batch in datagen.flow(img, batch_size=1,\n",
    "                                     save_to_dir=(data_src+directory+'/'), save_prefix='frame',\n",
    "                                     save_format='jpg', shuffle=False): # 같은 이름으로 덮어씌움\n",
    "                i += 1\n",
    "                if i > 14: # 한 이미지당 14번 data augmentation 수행\n",
    "                    break\n",
    "    except:\n",
    "        pass\n"
   ]
  }
 ],
 "metadata": {
  "kernelspec": {
   "display_name": "Python 3",
   "language": "python",
   "name": "python3"
  },
  "language_info": {
   "codemirror_mode": {
    "name": "ipython",
    "version": 3
   },
   "file_extension": ".py",
   "mimetype": "text/x-python",
   "name": "python",
   "nbconvert_exporter": "python",
   "pygments_lexer": "ipython3",
   "version": "3.7.3"
  }
 },
 "nbformat": 4,
 "nbformat_minor": 2
}
